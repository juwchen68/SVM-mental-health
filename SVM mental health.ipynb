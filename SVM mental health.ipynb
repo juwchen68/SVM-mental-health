{
 "cells": [
  {
   "cell_type": "code",
   "execution_count": 4,
   "id": "3b570a38",
   "metadata": {},
   "outputs": [
    {
     "name": "stderr",
     "output_type": "stream",
     "text": [
      "[nltk_data] Downloading package stopwords to\n",
      "[nltk_data]     C:\\Users\\wchen\\AppData\\Roaming\\nltk_data...\n",
      "[nltk_data]   Package stopwords is already up-to-date!\n"
     ]
    }
   ],
   "source": [
    "import pandas as pd\n",
    "from collections import Counter\n",
    "import numpy as np\n",
    "import math\n",
    "import nltk\n",
    "nltk.download('stopwords')\n",
    "from nltk.corpus import stopwords\n",
    "from nltk.stem import SnowballStemmer\n",
    "%matplotlib inline\n",
    "import matplotlib.pyplot as plt"
   ]
  },
  {
   "cell_type": "code",
   "execution_count": 8,
   "id": "3b05f0cc",
   "metadata": {},
   "outputs": [],
   "source": [
    "df = pd.read_csv('/Users/wchen\\OneDrive - Analog Devices, Inc/Justin AARD/mental_health_subreddits_dataset.csv')"
   ]
  },
  {
   "cell_type": "code",
   "execution_count": 9,
   "id": "452a6348",
   "metadata": {},
   "outputs": [
    {
     "data": {
      "text/html": [
       "<div>\n",
       "<style scoped>\n",
       "    .dataframe tbody tr th:only-of-type {\n",
       "        vertical-align: middle;\n",
       "    }\n",
       "\n",
       "    .dataframe tbody tr th {\n",
       "        vertical-align: top;\n",
       "    }\n",
       "\n",
       "    .dataframe thead th {\n",
       "        text-align: right;\n",
       "    }\n",
       "</style>\n",
       "<table border=\"1\" class=\"dataframe\">\n",
       "  <thead>\n",
       "    <tr style=\"text-align: right;\">\n",
       "      <th></th>\n",
       "      <th>Unnamed: 0</th>\n",
       "      <th>subreddit.name</th>\n",
       "      <th>created_utc</th>\n",
       "      <th>body</th>\n",
       "      <th>sentiment</th>\n",
       "    </tr>\n",
       "  </thead>\n",
       "  <tbody>\n",
       "    <tr>\n",
       "      <th>0</th>\n",
       "      <td>963</td>\n",
       "      <td>covid19_support</td>\n",
       "      <td>1635203992</td>\n",
       "      <td>This. Plus remember the poster in here a few w...</td>\n",
       "      <td>-0.6652</td>\n",
       "    </tr>\n",
       "    <tr>\n",
       "      <th>1</th>\n",
       "      <td>967</td>\n",
       "      <td>anxiety</td>\n",
       "      <td>1635203988</td>\n",
       "      <td>Currently 8 and a half months pregnant and als...</td>\n",
       "      <td>-0.8555</td>\n",
       "    </tr>\n",
       "    <tr>\n",
       "      <th>2</th>\n",
       "      <td>1142</td>\n",
       "      <td>anxiety</td>\n",
       "      <td>1635203613</td>\n",
       "      <td>Few people had COVID in my building and refuse...</td>\n",
       "      <td>-0.2960</td>\n",
       "    </tr>\n",
       "    <tr>\n",
       "      <th>3</th>\n",
       "      <td>1403</td>\n",
       "      <td>covid19_support</td>\n",
       "      <td>1635202948</td>\n",
       "      <td>My friend will be so relieved she didn't actua...</td>\n",
       "      <td>0.7626</td>\n",
       "    </tr>\n",
       "    <tr>\n",
       "      <th>4</th>\n",
       "      <td>1616</td>\n",
       "      <td>depression</td>\n",
       "      <td>1635202459</td>\n",
       "      <td>This hits close to home. \\n\\nHe sounds similar...</td>\n",
       "      <td>-0.4006</td>\n",
       "    </tr>\n",
       "    <tr>\n",
       "      <th>...</th>\n",
       "      <td>...</td>\n",
       "      <td>...</td>\n",
       "      <td>...</td>\n",
       "      <td>...</td>\n",
       "      <td>...</td>\n",
       "    </tr>\n",
       "    <tr>\n",
       "      <th>45879</th>\n",
       "      <td>17777050</td>\n",
       "      <td>anxiety</td>\n",
       "      <td>1581473713</td>\n",
       "      <td>It is quite interesting, in terms of somewhat ...</td>\n",
       "      <td>-0.9256</td>\n",
       "    </tr>\n",
       "    <tr>\n",
       "      <th>45880</th>\n",
       "      <td>17777094</td>\n",
       "      <td>anxiety</td>\n",
       "      <td>1581466598</td>\n",
       "      <td>Stay focused on what the experts are saying an...</td>\n",
       "      <td>0.7430</td>\n",
       "    </tr>\n",
       "    <tr>\n",
       "      <th>45881</th>\n",
       "      <td>17777113</td>\n",
       "      <td>anxiety</td>\n",
       "      <td>1581463547</td>\n",
       "      <td>No new COVID-19 cases in B.C., 4 confirmed pat...</td>\n",
       "      <td>-0.1531</td>\n",
       "    </tr>\n",
       "    <tr>\n",
       "      <th>45882</th>\n",
       "      <td>17777197</td>\n",
       "      <td>mentalhealth</td>\n",
       "      <td>1581454025</td>\n",
       "      <td>Hi mate, as someone with GAD I can relate to y...</td>\n",
       "      <td>0.5332</td>\n",
       "    </tr>\n",
       "    <tr>\n",
       "      <th>45883</th>\n",
       "      <td>17777368</td>\n",
       "      <td>anxiety</td>\n",
       "      <td>1581071322</td>\n",
       "      <td>***MORE UPDATES  ON MY OTHER COMMENT ON THIS T...</td>\n",
       "      <td>0.9325</td>\n",
       "    </tr>\n",
       "  </tbody>\n",
       "</table>\n",
       "<p>45721 rows × 5 columns</p>\n",
       "</div>"
      ],
      "text/plain": [
       "       Unnamed: 0   subreddit.name  created_utc  \\\n",
       "0             963  covid19_support   1635203992   \n",
       "1             967          anxiety   1635203988   \n",
       "2            1142          anxiety   1635203613   \n",
       "3            1403  covid19_support   1635202948   \n",
       "4            1616       depression   1635202459   \n",
       "...           ...              ...          ...   \n",
       "45879    17777050          anxiety   1581473713   \n",
       "45880    17777094          anxiety   1581466598   \n",
       "45881    17777113          anxiety   1581463547   \n",
       "45882    17777197     mentalhealth   1581454025   \n",
       "45883    17777368          anxiety   1581071322   \n",
       "\n",
       "                                                    body  sentiment  \n",
       "0      This. Plus remember the poster in here a few w...    -0.6652  \n",
       "1      Currently 8 and a half months pregnant and als...    -0.8555  \n",
       "2      Few people had COVID in my building and refuse...    -0.2960  \n",
       "3      My friend will be so relieved she didn't actua...     0.7626  \n",
       "4      This hits close to home. \\n\\nHe sounds similar...    -0.4006  \n",
       "...                                                  ...        ...  \n",
       "45879  It is quite interesting, in terms of somewhat ...    -0.9256  \n",
       "45880  Stay focused on what the experts are saying an...     0.7430  \n",
       "45881  No new COVID-19 cases in B.C., 4 confirmed pat...    -0.1531  \n",
       "45882  Hi mate, as someone with GAD I can relate to y...     0.5332  \n",
       "45883  ***MORE UPDATES  ON MY OTHER COMMENT ON THIS T...     0.9325  \n",
       "\n",
       "[45721 rows x 5 columns]"
      ]
     },
     "execution_count": 9,
     "metadata": {},
     "output_type": "execute_result"
    }
   ],
   "source": [
    "df.dropna(axis = 0, how = 'any')"
   ]
  },
  {
   "cell_type": "code",
   "execution_count": 78,
   "id": "e8ea5daa",
   "metadata": {},
   "outputs": [
    {
     "data": {
      "text/html": [
       "<div>\n",
       "<style scoped>\n",
       "    .dataframe tbody tr th:only-of-type {\n",
       "        vertical-align: middle;\n",
       "    }\n",
       "\n",
       "    .dataframe tbody tr th {\n",
       "        vertical-align: top;\n",
       "    }\n",
       "\n",
       "    .dataframe thead th {\n",
       "        text-align: right;\n",
       "    }\n",
       "</style>\n",
       "<table border=\"1\" class=\"dataframe\">\n",
       "  <thead>\n",
       "    <tr style=\"text-align: right;\">\n",
       "      <th></th>\n",
       "      <th>Unnamed: 0</th>\n",
       "      <th>subreddit.name</th>\n",
       "      <th>created_utc</th>\n",
       "      <th>body</th>\n",
       "      <th>sentiment</th>\n",
       "    </tr>\n",
       "  </thead>\n",
       "  <tbody>\n",
       "    <tr>\n",
       "      <th>42492</th>\n",
       "      <td>16727347</td>\n",
       "      <td>anxiety</td>\n",
       "      <td>1586748338</td>\n",
       "      <td>wish guidance us work pharmacy grocery store t...</td>\n",
       "      <td>-0.3071</td>\n",
       "    </tr>\n",
       "    <tr>\n",
       "      <th>44002</th>\n",
       "      <td>17200328</td>\n",
       "      <td>anxiety</td>\n",
       "      <td>1585350224</td>\n",
       "      <td>discover asmr girlfriend long time ago blessin...</td>\n",
       "      <td>-0.8822</td>\n",
       "    </tr>\n",
       "    <tr>\n",
       "      <th>28828</th>\n",
       "      <td>13019463</td>\n",
       "      <td>anxiety</td>\n",
       "      <td>1598812181</td>\n",
       "      <td>post removed flagged see mentioned covid pleas...</td>\n",
       "      <td>0.7635</td>\n",
       "    </tr>\n",
       "    <tr>\n",
       "      <th>35115</th>\n",
       "      <td>14774428</td>\n",
       "      <td>anxiety</td>\n",
       "      <td>1593648201</td>\n",
       "      <td>post removed flagged see mentioned covid pleas...</td>\n",
       "      <td>0.7635</td>\n",
       "    </tr>\n",
       "    <tr>\n",
       "      <th>17929</th>\n",
       "      <td>9204635</td>\n",
       "      <td>anxiety</td>\n",
       "      <td>1609621787</td>\n",
       "      <td>issues never thought death much year could get...</td>\n",
       "      <td>0.3412</td>\n",
       "    </tr>\n",
       "  </tbody>\n",
       "</table>\n",
       "</div>"
      ],
      "text/plain": [
       "       Unnamed: 0 subreddit.name  created_utc  \\\n",
       "42492    16727347        anxiety   1586748338   \n",
       "44002    17200328        anxiety   1585350224   \n",
       "28828    13019463        anxiety   1598812181   \n",
       "35115    14774428        anxiety   1593648201   \n",
       "17929     9204635        anxiety   1609621787   \n",
       "\n",
       "                                                    body  sentiment  \n",
       "42492  wish guidance us work pharmacy grocery store t...    -0.3071  \n",
       "44002  discover asmr girlfriend long time ago blessin...    -0.8822  \n",
       "28828  post removed flagged see mentioned covid pleas...     0.7635  \n",
       "35115  post removed flagged see mentioned covid pleas...     0.7635  \n",
       "17929  issues never thought death much year could get...     0.3412  "
      ]
     },
     "execution_count": 78,
     "metadata": {},
     "output_type": "execute_result"
    }
   ],
   "source": [
    "sample = df.sample(45000)\n",
    "sample.head()"
   ]
  },
  {
   "cell_type": "code",
   "execution_count": 82,
   "id": "187fae44",
   "metadata": {},
   "outputs": [
    {
     "data": {
      "text/plain": [
       "Counter({'anxiety': 16385,\n",
       "         'depression': 5752,\n",
       "         'mentalhealth': 3242,\n",
       "         'SuicideWatch': 3962,\n",
       "         'COVID19_support': 15659})"
      ]
     },
     "execution_count": 82,
     "metadata": {},
     "output_type": "execute_result"
    }
   ],
   "source": [
    "count = Counter()\n",
    "for index, row in sample.iterrows():\n",
    "    if row['subreddit.name'] == 'anxiety':\n",
    "        count['anxiety'] += 1\n",
    "    if row['subreddit.name'] == 'depression':\n",
    "        count['depression'] += 1\n",
    "    if row['subreddit.name'] == 'suicidewatch':\n",
    "        count['SuicideWatch'] += 1\n",
    "    if row['subreddit.name'] == 'mentalhealth':\n",
    "        count['mentalhealth'] += 1\n",
    "    if row['subreddit.name'] == 'covid19_support':\n",
    "        count['COVID19_support'] += 1\n",
    "count"
   ]
  },
  {
   "cell_type": "code",
   "execution_count": 84,
   "id": "f70fe703",
   "metadata": {},
   "outputs": [],
   "source": [
    "def pre_cleaning(text):\n",
    "    line=re.sub(r\"\\Bu/\\w+\", \"USERNAME\", text) #replace username with USERNAME\n",
    "    line = demoji.replace(line, repl=' ')\n",
    "    return line"
   ]
  },
  {
   "cell_type": "code",
   "execution_count": 85,
   "id": "3c621936",
   "metadata": {},
   "outputs": [],
   "source": [
    "#removing stopwords and urls, stemming, making lowercase \n",
    "stop_words = stopwords.words('english')\n",
    "stemmer = SnowballStemmer('english')\n",
    "\n",
    "text_cleaning_re = \"@\\S+|https?:\\S+|http?:\\S|[^A-Za-z0-9]+\"\n",
    "\n",
    "def cleaning(text, stem=False):\n",
    "    text = re.sub(text_cleaning_re, ' ', str(text).lower()).strip()\n",
    "    tokens = []\n",
    "    for token in text.split():\n",
    "        if token not in stop_words:\n",
    "            if stem:\n",
    "                tokens.append(stemmer.stem(token))\n",
    "            else:\n",
    "                tokens.append(token)\n",
    "    return \" \".join(tokens)"
   ]
  },
  {
   "cell_type": "code",
   "execution_count": 86,
   "id": "5696e925",
   "metadata": {},
   "outputs": [],
   "source": [
    "def post_cleaning(text):\n",
    "    # Remove all the special characters\n",
    "    processed_feature = re.sub(r'\\W', ' ',text)\n",
    "\n",
    "    # remove all single characters\n",
    "    processed_feature= re.sub(r'\\s+[a-zA-Z]\\s+', ' ', processed_feature)\n",
    "\n",
    "    # Remove single characters from the start\n",
    "    processed_feature = re.sub(r'\\^[a-zA-Z]\\s+', ' ', processed_feature) \n",
    "    \n",
    "    #remove digits\n",
    "    processed_feature = re.sub(\"^\\d+\\s|\\s\\d+\\s|\\s\\d+$\", \" \", processed_feature)\n",
    "\n",
    "    # Substituting multiple spaces with single space\n",
    "    processed_feature = re.sub(r'\\s+', ' ', processed_feature, flags=re.I)\n",
    "\n",
    "    return processed_feature"
   ]
  },
  {
   "cell_type": "code",
   "execution_count": 87,
   "id": "a213c635",
   "metadata": {},
   "outputs": [],
   "source": [
    "#above functions combined\n",
    "def preprocessing(text):\n",
    "    line = pre_cleaning(text)\n",
    "    line = cleaning(line)\n",
    "    line = post_cleaning (line)\n",
    "    return line"
   ]
  },
  {
   "cell_type": "code",
   "execution_count": 88,
   "id": "10089cfb",
   "metadata": {},
   "outputs": [
    {
     "ename": "TypeError",
     "evalue": "'>' not supported between instances of 'str' and 'int'",
     "output_type": "error",
     "traceback": [
      "\u001b[1;31m---------------------------------------------------------------------------\u001b[0m",
      "\u001b[1;31mTypeError\u001b[0m                                 Traceback (most recent call last)",
      "\u001b[1;32m<ipython-input-88-30a9a8bbf6b7>\u001b[0m in \u001b[0;36m<module>\u001b[1;34m\u001b[0m\n\u001b[0;32m      1\u001b[0m \u001b[1;32mfor\u001b[0m \u001b[0msentiment\u001b[0m \u001b[1;32min\u001b[0m \u001b[0msample\u001b[0m\u001b[1;33m[\u001b[0m\u001b[1;34m'sentiment'\u001b[0m\u001b[1;33m]\u001b[0m\u001b[1;33m:\u001b[0m\u001b[1;33m\u001b[0m\u001b[1;33m\u001b[0m\u001b[0m\n\u001b[1;32m----> 2\u001b[1;33m     \u001b[1;32mif\u001b[0m \u001b[0msentiment\u001b[0m \u001b[1;33m>\u001b[0m \u001b[1;36m0\u001b[0m\u001b[1;33m:\u001b[0m\u001b[1;33m\u001b[0m\u001b[1;33m\u001b[0m\u001b[0m\n\u001b[0m\u001b[0;32m      3\u001b[0m         \u001b[0msample\u001b[0m\u001b[1;33m[\u001b[0m\u001b[1;34m'sentiment'\u001b[0m\u001b[1;33m]\u001b[0m\u001b[1;33m.\u001b[0m\u001b[0mreplace\u001b[0m\u001b[1;33m(\u001b[0m\u001b[1;33m{\u001b[0m\u001b[0msentiment\u001b[0m \u001b[1;33m:\u001b[0m \u001b[1;34m'positive'\u001b[0m\u001b[1;33m}\u001b[0m\u001b[1;33m,\u001b[0m \u001b[0minplace\u001b[0m\u001b[1;33m=\u001b[0m\u001b[1;32mTrue\u001b[0m\u001b[1;33m)\u001b[0m\u001b[1;33m\u001b[0m\u001b[1;33m\u001b[0m\u001b[0m\n\u001b[0;32m      4\u001b[0m     \u001b[1;32mif\u001b[0m \u001b[0msentiment\u001b[0m \u001b[1;33m<\u001b[0m \u001b[1;36m0\u001b[0m\u001b[1;33m:\u001b[0m\u001b[1;33m\u001b[0m\u001b[1;33m\u001b[0m\u001b[0m\n\u001b[0;32m      5\u001b[0m         \u001b[0msample\u001b[0m\u001b[1;33m[\u001b[0m\u001b[1;34m'sentiment'\u001b[0m\u001b[1;33m]\u001b[0m\u001b[1;33m.\u001b[0m\u001b[0mreplace\u001b[0m\u001b[1;33m(\u001b[0m\u001b[1;33m{\u001b[0m\u001b[0msentiment\u001b[0m \u001b[1;33m:\u001b[0m \u001b[1;34m'negative'\u001b[0m\u001b[1;33m}\u001b[0m\u001b[1;33m,\u001b[0m \u001b[0minplace\u001b[0m\u001b[1;33m=\u001b[0m\u001b[1;32mTrue\u001b[0m\u001b[1;33m)\u001b[0m\u001b[1;33m\u001b[0m\u001b[1;33m\u001b[0m\u001b[0m\n",
      "\u001b[1;31mTypeError\u001b[0m: '>' not supported between instances of 'str' and 'int'"
     ]
    }
   ],
   "source": [
    "for sentiment in sample['sentiment']:\n",
    "    if sentiment > 0:\n",
    "        sample['sentiment'].replace({sentiment : 'positive'}, inplace=True)\n",
    "    if sentiment < 0:\n",
    "        sample['sentiment'].replace({sentiment : 'negative'}, inplace=True)\n",
    "    else:\n",
    "        sample['sentiment'].replace({sentiment : 'neutral'}, inplace=True)"
   ]
  },
  {
   "cell_type": "code",
   "execution_count": 19,
   "id": "62a6780e",
   "metadata": {},
   "outputs": [],
   "source": [
    "df.body = df.body.apply(lambda x: preprocessing(x))"
   ]
  },
  {
   "cell_type": "code",
   "execution_count": 81,
   "id": "3a9fe4dd",
   "metadata": {},
   "outputs": [
    {
     "data": {
      "text/plain": [
       "Text(0.5, 1.0, 'Sentiment Data Distribution')"
      ]
     },
     "execution_count": 81,
     "metadata": {},
     "output_type": "execute_result"
    },
    {
     "data": {
      "image/png": "[encoded data removed]",
      "text/plain": [
       "<Figure size 576x288 with 1 Axes>"
      ]
     },
     "metadata": {
      "needs_background": "light"
     },
     "output_type": "display_data"
    }
   ],
   "source": [
    "#Graphing\n",
    "val_count = sample.sentiment.value_counts()\n",
    "plt.figure(figsize=(8,4))\n",
    "plt.bar(val_count.index, val_count.values)\n",
    "plt.title(\"Sentiment Data Distribution\")"
   ]
  },
  {
   "cell_type": "code",
   "execution_count": 23,
   "id": "7c890555",
   "metadata": {},
   "outputs": [],
   "source": [
    "from sklearn.model_selection import train_test_split"
   ]
  },
  {
   "cell_type": "code",
   "execution_count": 89,
   "id": "6a439931",
   "metadata": {},
   "outputs": [
    {
     "name": "stdout",
     "output_type": "stream",
     "text": [
      "Train Data size: 36000\n",
      "Test Data size 9000\n"
     ]
    }
   ],
   "source": [
    " # Splits Dataset into Training and Testing set\n",
    "train_size = 0.8\n",
    "train_data, test_data = train_test_split(sample, test_size=1-train_size, random_state=42, shuffle=True)\n",
    "print(\"Train Data size:\", len(train_data))\n",
    "print(\"Test Data size\", len(test_data))"
   ]
  },
  {
   "cell_type": "code",
   "execution_count": 25,
   "id": "f6e69ebf",
   "metadata": {},
   "outputs": [],
   "source": [
    "from sklearn.feature_extraction.text import TfidfVectorizer"
   ]
  },
  {
   "cell_type": "code",
   "execution_count": 90,
   "id": "96e86723",
   "metadata": {},
   "outputs": [],
   "source": [
    "vectorizer = TfidfVectorizer(max_features=14000,\n",
    "                             min_df = 5,\n",
    "                             max_df = 0.8,\n",
    "                             sublinear_tf = True,\n",
    "                             use_idf = True)\n",
    "vectorizer.fit(train_data.body.to_list())\n",
    "x_train = vectorizer.transform(train_data.body.to_list())\n",
    "x_test = vectorizer.transform(test_data.body.to_list())"
   ]
  },
  {
   "cell_type": "code",
   "execution_count": 27,
   "id": "a0fd0d7a",
   "metadata": {},
   "outputs": [],
   "source": [
    "from sklearn.preprocessing import LabelEncoder"
   ]
  },
  {
   "cell_type": "code",
   "execution_count": 91,
   "id": "9b2378d0",
   "metadata": {},
   "outputs": [
    {
     "name": "stdout",
     "output_type": "stream",
     "text": [
      "y_train shape: (36000, 1)\n",
      "y_test shape: (9000, 1)\n"
     ]
    }
   ],
   "source": [
    "encoder = LabelEncoder() #https://scikit-learn.org/stable/modules/generated/sklearn.preprocessing.LabelEncoder.html\n",
    "encoder.fit(train_data.sentiment.to_list())\n",
    "\n",
    "y_train = encoder.transform(train_data.sentiment.to_list())\n",
    "y_test = encoder.transform(test_data.sentiment.to_list())\n",
    "\n",
    "y_train = y_train.reshape(-1,1)\n",
    "y_test = y_test.reshape(-1,1)\n",
    "\n",
    "print(\"y_train shape:\", y_train.shape)\n",
    "print(\"y_test shape:\", y_test.shape)"
   ]
  },
  {
   "cell_type": "code",
   "execution_count": 94,
   "id": "cbd26bc0",
   "metadata": {},
   "outputs": [],
   "source": [
    "import time\n",
    "from sklearn import svm\n",
    "from sklearn.metrics import classification_report\n",
    "from sklearn import metrics"
   ]
  },
  {
   "cell_type": "code",
   "execution_count": 96,
   "id": "ee7d9de0",
   "metadata": {
    "scrolled": true
   },
   "outputs": [
    {
     "name": "stdout",
     "output_type": "stream",
     "text": [
      "Training time: 547.221283s; Prediction time: 57.225235s\n",
      "Accuracy: 0.8165555555555556\n",
      "positive:  {'precision': 0.8404963136126596, 'recall': 0.8818867924528302, 'f1-score': 0.8606942270509161, 'support': 5300}\n",
      "negative:  {'precision': 0.7827806510495893, 'recall': 0.7567647058823529, 'f1-score': 0.7695528637655151, 'support': 3400}\n",
      "neutral:  {'precision': 0.6710526315789473, 'recall': 0.34, 'f1-score': 0.45132743362831856, 'support': 300}\n"
     ]
    }
   ],
   "source": [
    "# Perform classification with SVM, kernel=linear\n",
    "classifier_linear = svm.SVC(kernel='linear')\n",
    "t0 = time.time()\n",
    "classifier_linear.fit(x_train, y_train.ravel())\n",
    "t1 = time.time()\n",
    "prediction_linear = classifier_linear.predict(x_test)\n",
    "t2 = time.time()\n",
    "time_linear_train = t1-t0\n",
    "time_linear_predict = t2-t1\n",
    "\n",
    "labels = [0.0, 1.0, 2.0]\n",
    "target_names = ['negative', 'neutral', 'positive']\n",
    "\n",
    "# results\n",
    "print(\"Training time: %fs; Prediction time: %fs\" % (time_linear_train, time_linear_predict))\n",
    "\n",
    "report = classification_report(y_test, prediction_linear, labels = labels, target_names = target_names, output_dict=True)\n",
    "\n",
    "print(\"Accuracy:\", metrics.accuracy_score(y_test, prediction_linear))\n",
    "\n",
    "print('positive: ', report['positive'])\n",
    "print('negative: ', report['negative'])\n",
    "print('neutral: ', report['neutral'])"
   ]
  },
  {
   "cell_type": "code",
   "execution_count": 99,
   "id": "ea0ef9b9",
   "metadata": {},
   "outputs": [
    {
     "name": "stdout",
     "output_type": "stream",
     "text": [
      "corona\n",
      "coronavirus\n",
      "distancing\n",
      "epidemic\n",
      "immune\n",
      "incubation\n",
      "infect\n",
      "influenza\n",
      "isolation\n",
      "lockdown\n",
      "mask\n",
      "outbreak\n",
      "pandemic\n",
      "ppe\n",
      "quarantine\n",
      "symptomatic\n",
      "transmission\n",
      "vaccine\n",
      "ventilator\n",
      "viral\n",
      "virus\n"
     ]
    },
    {
     "data": {
      "image/png": "[encoded data removed]",
      "text/plain": [
       "<Figure size 432x288 with 1 Axes>"
      ]
     },
     "metadata": {
      "needs_background": "light"
     },
     "output_type": "display_data"
    }
   ],
   "source": [
    "def f_importances(coef, names):\n",
    "    coef_list = []\n",
    "    name_list=[]\n",
    "    for x in range(len(vectorizer.get_feature_names())):\n",
    "        if  vectorizer.get_feature_names()[x] in names:\n",
    "            print(vectorizer.get_feature_names()[x])\n",
    "            coef_list.append(coef[x])\n",
    "            name_list.append(vectorizer.get_feature_names()[x])\n",
    "    imp = np.array(coef_list)\n",
    "    imp,name_list = zip(*sorted(zip(imp,name_list)))\n",
    "    plt.barh(range(len(name_list)), imp, align='center')\n",
    "    plt.yticks(range(len(name_list)), name_list)\n",
    "    plt.show()\n",
    "\n",
    "features_names = ['corona', \n",
    "                  'virus', \n",
    "                  'viral', \n",
    "                  'covid', \n",
    "                  'influenza', \n",
    "                  'pandemic', \n",
    "                  'epidemic', \n",
    "                  'quarantine', \n",
    "                  'lockdown',\n",
    "                  'distancing', \n",
    "                  'national emergency', \n",
    "                  'infect', \n",
    "                  'ventilator', \n",
    "                  'mask', \n",
    "                  'symptomatic', \n",
    "                  'immune', \n",
    "                  'incubation', \n",
    "                  'transmission', \n",
    "                  'vaccine',\n",
    "                  'confirmed case',\n",
    "                  'coronavirus',\n",
    "                  'covid-19',\n",
    "                  'outbreak',\n",
    "                  'ppe',\n",
    "                  'isolation',\n",
    "                  'social distancing' ]\n",
    "f_importances(classifier_linear.coef_.toarray()[0], features_names)"
   ]
  },
  {
   "cell_type": "code",
   "execution_count": 100,
   "id": "854096ec",
   "metadata": {},
   "outputs": [
    {
     "name": "stdout",
     "output_type": "stream",
     "text": [
      "debt\n",
      "economy\n",
      "eviction\n",
      "income\n",
      "job\n",
      "mortgage\n",
      "rent\n",
      "salary\n",
      "wage\n"
     ]
    },
    {
     "data": {
      "image/png": "[encoded data removed]",
      "text/plain": [
       "<Figure size 432x288 with 1 Axes>"
      ]
     },
     "metadata": {
      "needs_background": "light"
     },
     "output_type": "display_data"
    }
   ],
   "source": [
    "economy_features = ['Unemploy',\n",
    "                    'rent',\n",
    "                    'mortgage',\n",
    "                         'economy',\n",
    "                         'enough money',\n",
    "                         'debt',\n",
    "                         'salary', \n",
    "                          'wage', \n",
    "                          'income', \n",
    "                          'job', \n",
    "                          'eviction',\n",
    "                         ]\n",
    "f_importances(classifier_linear.coef_.toarray()[0], economy_features)"
   ]
  },
  {
   "cell_type": "code",
   "execution_count": 101,
   "id": "f6f740a0",
   "metadata": {},
   "outputs": [
    {
     "name": "stdout",
     "output_type": "stream",
     "text": [
      "alone\n",
      "avoid\n",
      "lonely\n",
      "rejected\n",
      "trapped\n",
      "ugly\n"
     ]
    },
    {
     "data": {
      "image/png": "[encoded data removed]",
      "text/plain": [
       "<Figure size 432x288 with 1 Axes>"
      ]
     },
     "metadata": {
      "needs_background": "light"
     },
     "output_type": "display_data"
    }
   ],
   "source": [
    "isolation_features = ['alone', 'lonely', 'no one cares', 'can’t see anyone', 'can’t see my', 'i miss my', 'i want to see my', 'trapped', 'i’m in a cage', 'feel ignored', 'ignoring me', 'ugly',\n",
    "'rejected', 'avoid']\n",
    "f_importances(classifier_linear.coef_.toarray()[0], isolation_features)"
   ]
  },
  {
   "cell_type": "code",
   "execution_count": 102,
   "id": "d2d55b55",
   "metadata": {},
   "outputs": [
    {
     "name": "stdout",
     "output_type": "stream",
     "text": [
      "abuse\n",
      "divorce\n",
      "fight\n",
      "fighting\n",
      "yelling\n"
     ]
    },
    {
     "data": {
      "image/png": "[encoded data removed]",
      "text/plain": [
       "<Figure size 432x288 with 1 Axes>"
      ]
     },
     "metadata": {
      "needs_background": "light"
     },
     "output_type": "display_data"
    }
   ],
   "source": [
    "domestic_stress_features = ['divorce', 'domestic violence', 'abuse', 'yelling', 'fighting with me', 'we’re fighting', 'single mom',\n",
    "'single dad', 'single parent', 'hit me', 'slapped me', 'fighting', 'fight']\n",
    "f_importances(classifier_linear.coef_.toarray()[0], domestic_stress_features)"
   ]
  },
  {
   "cell_type": "code",
   "execution_count": 103,
   "id": "d93b130e",
   "metadata": {},
   "outputs": [
    {
     "name": "stdout",
     "output_type": "stream",
     "text": [
      "hopeless\n",
      "suicide\n"
     ]
    },
    {
     "data": {
      "image/png": "[encoded data removed]",
      "text/plain": [
       "<Figure size 432x288 with 1 Axes>"
      ]
     },
     "metadata": {
      "needs_background": "light"
     },
     "output_type": "display_data"
    }
   ],
   "source": [
    "suicidality_features = ['commit suicide', 'jump off a bridge', 'i want to overdose', 'i’m a burden', 'i’m such a burden', 'i will overdose', 'thinking about overdose', 'kill myself', 'killing myself', 'hang myself', \n",
    "                        'hanging myself', 'cut myself', 'cutting myself', 'hurt myself', 'hurting myself', 'want to die', 'wanna die',\n",
    "'don’t want to wake up', 'don’t wake up', 'never want to wake up', 'don’t want to be alive', 'want to be alive', 'wish it would all end', 'done with living', 'want it to end', 'it all ends tonight', \n",
    "                        'live anymore', 'living anymore', 'life anymore', 'be dead', 'take it anymore', 'end my life', \n",
    "                        'think about death', 'hopeless', 'hurt myself', 'no one will miss me', 'don’t want to wake up', 'if i live or die', \n",
    "                        'i hate my life', 'shoot me', 'kill me', 'suicide', 'no point']\n",
    "f_importances(classifier_linear.coef_.toarray()[0], suicidality_features)"
   ]
  },
  {
   "cell_type": "code",
   "execution_count": null,
   "id": "5d17cdbf",
   "metadata": {},
   "outputs": [],
   "source": []
  },
  {
   "cell_type": "code",
   "execution_count": 104,
   "id": "a70d1e69",
   "metadata": {},
   "outputs": [
    {
     "name": "stderr",
     "output_type": "stream",
     "text": [
      "C:\\Users\\wchen\\Anaconda3\\lib\\site-packages\\sklearn\\utils\\validation.py:63: DataConversionWarning: A column-vector y was passed when a 1d array was expected. Please change the shape of y to (n_samples, ), for example using ravel().\n",
      "  return f(*args, **kwargs)\n"
     ]
    },
    {
     "ename": "IndexError",
     "evalue": "index 39542 is out of bounds for axis 0 with size 38607",
     "output_type": "error",
     "traceback": [
      "\u001b[1;31m---------------------------------------------------------------------------\u001b[0m",
      "\u001b[1;31mIndexError\u001b[0m                                Traceback (most recent call last)",
      "\u001b[1;32m<ipython-input-104-15a1af92b37b>\u001b[0m in \u001b[0;36m<module>\u001b[1;34m\u001b[0m\n\u001b[0;32m     17\u001b[0m \u001b[0msvm\u001b[0m \u001b[1;33m=\u001b[0m \u001b[0mLinearSVC\u001b[0m\u001b[1;33m(\u001b[0m\u001b[1;33m)\u001b[0m\u001b[1;33m\u001b[0m\u001b[1;33m\u001b[0m\u001b[0m\n\u001b[0;32m     18\u001b[0m \u001b[0msvm\u001b[0m\u001b[1;33m.\u001b[0m\u001b[0mfit\u001b[0m\u001b[1;33m(\u001b[0m\u001b[0mx_train\u001b[0m\u001b[1;33m,\u001b[0m \u001b[0my_train\u001b[0m\u001b[1;33m)\u001b[0m\u001b[1;33m\u001b[0m\u001b[1;33m\u001b[0m\u001b[0m\n\u001b[1;32m---> 19\u001b[1;33m \u001b[0mplot_coefficients\u001b[0m\u001b[1;33m(\u001b[0m\u001b[0msvm\u001b[0m\u001b[1;33m,\u001b[0m \u001b[0mcv\u001b[0m\u001b[1;33m.\u001b[0m\u001b[0mget_feature_names\u001b[0m\u001b[1;33m(\u001b[0m\u001b[1;33m)\u001b[0m\u001b[1;33m)\u001b[0m\u001b[1;33m\u001b[0m\u001b[1;33m\u001b[0m\u001b[0m\n\u001b[0m",
      "\u001b[1;32m<ipython-input-104-15a1af92b37b>\u001b[0m in \u001b[0;36mplot_coefficients\u001b[1;34m(classifier, feature_names, top_features)\u001b[0m\n\u001b[0;32m      9\u001b[0m     \u001b[0mplt\u001b[0m\u001b[1;33m.\u001b[0m\u001b[0mbar\u001b[0m\u001b[1;33m(\u001b[0m\u001b[0mnp\u001b[0m\u001b[1;33m.\u001b[0m\u001b[0marange\u001b[0m\u001b[1;33m(\u001b[0m\u001b[1;36m2\u001b[0m \u001b[1;33m*\u001b[0m \u001b[0mtop_features\u001b[0m\u001b[1;33m)\u001b[0m\u001b[1;33m,\u001b[0m \u001b[0mcoef\u001b[0m\u001b[1;33m[\u001b[0m\u001b[0mtop_coefficients\u001b[0m\u001b[1;33m]\u001b[0m\u001b[1;33m,\u001b[0m \u001b[0mcolor\u001b[0m\u001b[1;33m=\u001b[0m\u001b[0mcolors\u001b[0m\u001b[1;33m)\u001b[0m\u001b[1;33m\u001b[0m\u001b[1;33m\u001b[0m\u001b[0m\n\u001b[0;32m     10\u001b[0m     \u001b[0mfeature_names\u001b[0m \u001b[1;33m=\u001b[0m \u001b[0mnp\u001b[0m\u001b[1;33m.\u001b[0m\u001b[0marray\u001b[0m\u001b[1;33m(\u001b[0m\u001b[0mfeature_names\u001b[0m\u001b[1;33m)\u001b[0m\u001b[1;33m\u001b[0m\u001b[1;33m\u001b[0m\u001b[0m\n\u001b[1;32m---> 11\u001b[1;33m     \u001b[0mplt\u001b[0m\u001b[1;33m.\u001b[0m\u001b[0mxticks\u001b[0m\u001b[1;33m(\u001b[0m\u001b[0mnp\u001b[0m\u001b[1;33m.\u001b[0m\u001b[0marange\u001b[0m\u001b[1;33m(\u001b[0m\u001b[1;36m1\u001b[0m\u001b[1;33m,\u001b[0m \u001b[1;36m1\u001b[0m \u001b[1;33m+\u001b[0m \u001b[1;36m2\u001b[0m \u001b[1;33m*\u001b[0m \u001b[0mtop_features\u001b[0m\u001b[1;33m)\u001b[0m\u001b[1;33m,\u001b[0m \u001b[0mfeature_names\u001b[0m\u001b[1;33m[\u001b[0m\u001b[0mtop_coefficients\u001b[0m\u001b[1;33m]\u001b[0m\u001b[1;33m,\u001b[0m \u001b[0mrotation\u001b[0m\u001b[1;33m=\u001b[0m\u001b[1;36m60\u001b[0m\u001b[1;33m,\u001b[0m \u001b[0mha\u001b[0m\u001b[1;33m=\u001b[0m\u001b[1;34m'right'\u001b[0m\u001b[1;33m)\u001b[0m\u001b[1;33m\u001b[0m\u001b[1;33m\u001b[0m\u001b[0m\n\u001b[0m\u001b[0;32m     12\u001b[0m     \u001b[0mplt\u001b[0m\u001b[1;33m.\u001b[0m\u001b[0mshow\u001b[0m\u001b[1;33m(\u001b[0m\u001b[1;33m)\u001b[0m\u001b[1;33m\u001b[0m\u001b[1;33m\u001b[0m\u001b[0m\n\u001b[0;32m     13\u001b[0m \u001b[1;33m\u001b[0m\u001b[0m\n",
      "\u001b[1;31mIndexError\u001b[0m: index 39542 is out of bounds for axis 0 with size 38607"
     ]
    },
    {
     "data": {
      "image/png": "[encoded data removed]",
      "text/plain": [
       "<Figure size 1080x360 with 1 Axes>"
      ]
     },
     "metadata": {
      "needs_background": "light"
     },
     "output_type": "display_data"
    }
   ],
   "source": [
    "def plot_coefficients(classifier, feature_names, top_features=30):\n",
    "    coef = classifier.coef_.ravel()\n",
    "    top_positive_coefficients = np.argsort(coef)[-top_features:]\n",
    "    top_negative_coefficients = np.argsort(coef)[:top_features]\n",
    "    top_coefficients = np.hstack([top_negative_coefficients, top_positive_coefficients])\n",
    "    # create plot\n",
    "    plt.figure(figsize=(15, 5))\n",
    "    colors = ['red' if c < 0 else 'blue' for c in coef[top_coefficients]]\n",
    "    plt.bar(np.arange(2 * top_features), coef[top_coefficients], color=colors)\n",
    "    feature_names = np.array(feature_names)\n",
    "    plt.xticks(np.arange(1, 1 + 2 * top_features), feature_names[top_coefficients], rotation=60, ha='right')\n",
    "    plt.show()\n",
    "    \n",
    "cv = CountVectorizer(stop_words = 'english')\n",
    "cv.fit(train_data.body.to_list())\n",
    "\n",
    "svm = LinearSVC()\n",
    "svm.fit(x_train, y_train)\n",
    "plot_coefficients(svm, cv.get_feature_names())"
   ]
  }
 ],
 "metadata": {
  "kernelspec": {
   "display_name": "Python 3",
   "language": "python",
   "name": "python3"
  },
  "language_info": {
   "codemirror_mode": {
    "name": "ipython",
    "version": 3
   },
   "file_extension": ".py",
   "mimetype": "text/x-python",
   "name": "python",
   "nbconvert_exporter": "python",
   "pygments_lexer": "ipython3",
   "version": "3.8.8"
  }
 },
 "nbformat": 4,
 "nbformat_minor": 5
}
